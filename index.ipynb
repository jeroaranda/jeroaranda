{
 "cells": [
  {
   "cell_type": "markdown",
   "metadata": {},
   "source": [
    "<h1> Welcome to Jerónimo Aranda Barois personal website.</h1>\n",
    "\n",
    "------\n",
    "### Articles:\n",
    "\n",
    "* [Basic but not standard image processing](http://165.22.153.218/shiny/pages/posts/basic_image_processing.html)\n",
    "* [La desaparición en México.](desaparicion.html)\n",
    "\n",
    "\n",
    "### Visualizations:\n",
    "\n",
    "* [Interactive Bokeh map on human disappearance in mexico.](desaparecidos_municipio.html)\n",
    "* [Crímenes sexuales en Cd. Mex.](mapa.html)\n",
    "\n",
    "### Github:\n",
    "\n",
    "* [Repositories](https://github.com/jeroaranda)\n",
    "\n",
    "\n",
    "-------------\n",
    "\n",
    "### About me:\n",
    "\n",
    "I am a Mexican/French currently finishing a double degree in applied mathematics and computer engineering at ITAM, I was born and raised in Xalapa Veracruz.\n",
    "I like information processing, whether it is with my brain or in other computers.\n",
    "\n",
    "Currently doing my social service at [DataLabITAM](http://datalabitam.com).\n",
    "\n",
    "\n",
    "* [CV](ARANDA_JERONIMO_RESUMEF.pdf)\n",
    "\n",
    "#### Contact me at jeroaranda@gmail.com or [twitter](https://twitter.com/jeroaranda).\n",
    "\n"
   ]
  }
 ],
 "metadata": {
  "kernelspec": {
   "display_name": "Python 3",
   "language": "python",
   "name": "python3"
  },
  "language_info": {
   "codemirror_mode": {
    "name": "ipython",
    "version": 3
   },
   "file_extension": ".py",
   "mimetype": "text/x-python",
   "name": "python",
   "nbconvert_exporter": "python",
   "pygments_lexer": "ipython3",
   "version": "3.7.4"
  }
 },
 "nbformat": 4,
 "nbformat_minor": 2
}
